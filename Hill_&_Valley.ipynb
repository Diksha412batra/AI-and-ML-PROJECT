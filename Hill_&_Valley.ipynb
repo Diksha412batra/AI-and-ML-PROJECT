{
  "nbformat": 4,
  "nbformat_minor": 0,
  "metadata": {
    "colab": {
      "provenance": [],
      "authorship_tag": "ABX9TyPk6NbS4hR8OHSKqm6hGvS8",
      "include_colab_link": true
    },
    "kernelspec": {
      "name": "python3",
      "display_name": "Python 3"
    },
    "language_info": {
      "name": "python"
    }
  },
  "cells": [
    {
      "cell_type": "markdown",
      "metadata": {
        "id": "view-in-github",
        "colab_type": "text"
      },
      "source": [
        "<a href=\"https://colab.research.google.com/github/Diksha412batra/AI-and-ML-PROJECT/blob/main/Hill_%26_Valley.ipynb\" target=\"_parent\"><img src=\"https://colab.research.google.com/assets/colab-badge.svg\" alt=\"Open In Colab\"/></a>"
      ]
    },
    {
      "cell_type": "markdown",
      "source": [
        "# **Hill And Valley Prediction using Logistic Regression**\n",
        "\n"
      ],
      "metadata": {
        "id": "GjRs9euGQjhJ"
      }
    },
    {
      "cell_type": "markdown",
      "source": [
        "### **Getting Understanding about DataSet**"
      ],
      "metadata": {
        "id": "yg_FSW2aSvV3"
      }
    },
    {
      "cell_type": "markdown",
      "source": [
        "Each record represents 100 points on two-dimensional graph.When plotted in order(from 1 through 100) as the Y coordinate, the points will create either a hill ( a \"bump\" in the terrain) or a Valley(a \"dip\" in the terrain).See the original source for some examples of these graphs.\n",
        "\n",
        "1-100:Labeled \"V##\". Floating Point Values(numeric),the x-values.\n",
        "\n",
        "101:Labeled \"Class\".Binary{0,1} representing {valley,hill}"
      ],
      "metadata": {
        "id": "KSc2a65FUNPE"
      }
    },
    {
      "cell_type": "markdown",
      "source": [
        "### **Import Library**"
      ],
      "metadata": {
        "id": "ZgemFZpDZmiD"
      }
    },
    {
      "cell_type": "code",
      "source": [
        "import pandas as pd"
      ],
      "metadata": {
        "id": "lIT8x1qyZ82j"
      },
      "execution_count": null,
      "outputs": []
    },
    {
      "cell_type": "code",
      "source": [
        "import numpy as np"
      ],
      "metadata": {
        "id": "b_w7Lq3VaH-U"
      },
      "execution_count": null,
      "outputs": []
    },
    {
      "cell_type": "markdown",
      "source": [
        "### **Import Data**"
      ],
      "metadata": {
        "id": "esBTTfWgaP01"
      }
    },
    {
      "cell_type": "code",
      "source": [
        "Valley = pd.read_csv('https://github.com/YBI-Foundation/Dataset/raw/main/Hill%20Valley%20Dataset.csv')"
      ],
      "metadata": {
        "id": "4qKDF8zdaU06"
      },
      "execution_count": null,
      "outputs": []
    },
    {
      "cell_type": "markdown",
      "source": [
        "### **Describe Data**"
      ],
      "metadata": {
        "id": "OUCuCIrja_QW"
      }
    },
    {
      "cell_type": "code",
      "source": [
        "Valley.head()"
      ],
      "metadata": {
        "colab": {
          "base_uri": "https://localhost:8080/",
          "height": 299
        },
        "id": "5K-sVTlTbTVV",
        "outputId": "f36b817f-7ad1-464f-e4b1-c4a7731f034b"
      },
      "execution_count": null,
      "outputs": [
        {
          "output_type": "execute_result",
          "data": {
            "text/plain": [
              "         V1        V2        V3        V4        V5        V6        V7  \\\n",
              "0     39.02     36.49     38.20     38.85     39.38     39.74     37.02   \n",
              "1      1.83      1.71      1.77      1.77      1.68      1.78      1.80   \n",
              "2  68177.69  66138.42  72981.88  74304.33  67549.66  69367.34  69169.41   \n",
              "3  44889.06  39191.86  40728.46  38576.36  45876.06  47034.00  46611.43   \n",
              "4      5.70      5.40      5.28      5.38      5.27      5.61      6.00   \n",
              "\n",
              "         V8        V9       V10  ...       V92       V93       V94       V95  \\\n",
              "0     39.53     38.81     38.79  ...     36.62     36.92     38.80     38.52   \n",
              "1      1.70      1.75      1.78  ...      1.80      1.79      1.77      1.74   \n",
              "2  73268.61  74465.84  72503.37  ...  73438.88  71053.35  71112.62  74916.48   \n",
              "3  37668.32  40980.89  38466.15  ...  42625.67  40684.20  46960.73  44546.80   \n",
              "4      5.38      5.34      5.87  ...      5.17      5.67      5.60      5.94   \n",
              "\n",
              "        V96       V97       V98       V99      V100  Class  \n",
              "0     38.07     36.73     39.46     37.50     39.10      0  \n",
              "1      1.74      1.80      1.78      1.75      1.69      1  \n",
              "2  72571.58  66348.97  71063.72  67404.27  74920.24      1  \n",
              "3  45410.53  47139.44  43095.68  40888.34  39615.19      0  \n",
              "4      5.73      5.22      5.30      5.73      5.91      0  \n",
              "\n",
              "[5 rows x 101 columns]"
            ],
            "text/html": [
              "\n",
              "\n",
              "  <div id=\"df-78ac6409-a3bb-4e85-95bc-7c8f2d2c61d0\">\n",
              "    <div class=\"colab-df-container\">\n",
              "      <div>\n",
              "<style scoped>\n",
              "    .dataframe tbody tr th:only-of-type {\n",
              "        vertical-align: middle;\n",
              "    }\n",
              "\n",
              "    .dataframe tbody tr th {\n",
              "        vertical-align: top;\n",
              "    }\n",
              "\n",
              "    .dataframe thead th {\n",
              "        text-align: right;\n",
              "    }\n",
              "</style>\n",
              "<table border=\"1\" class=\"dataframe\">\n",
              "  <thead>\n",
              "    <tr style=\"text-align: right;\">\n",
              "      <th></th>\n",
              "      <th>V1</th>\n",
              "      <th>V2</th>\n",
              "      <th>V3</th>\n",
              "      <th>V4</th>\n",
              "      <th>V5</th>\n",
              "      <th>V6</th>\n",
              "      <th>V7</th>\n",
              "      <th>V8</th>\n",
              "      <th>V9</th>\n",
              "      <th>V10</th>\n",
              "      <th>...</th>\n",
              "      <th>V92</th>\n",
              "      <th>V93</th>\n",
              "      <th>V94</th>\n",
              "      <th>V95</th>\n",
              "      <th>V96</th>\n",
              "      <th>V97</th>\n",
              "      <th>V98</th>\n",
              "      <th>V99</th>\n",
              "      <th>V100</th>\n",
              "      <th>Class</th>\n",
              "    </tr>\n",
              "  </thead>\n",
              "  <tbody>\n",
              "    <tr>\n",
              "      <th>0</th>\n",
              "      <td>39.02</td>\n",
              "      <td>36.49</td>\n",
              "      <td>38.20</td>\n",
              "      <td>38.85</td>\n",
              "      <td>39.38</td>\n",
              "      <td>39.74</td>\n",
              "      <td>37.02</td>\n",
              "      <td>39.53</td>\n",
              "      <td>38.81</td>\n",
              "      <td>38.79</td>\n",
              "      <td>...</td>\n",
              "      <td>36.62</td>\n",
              "      <td>36.92</td>\n",
              "      <td>38.80</td>\n",
              "      <td>38.52</td>\n",
              "      <td>38.07</td>\n",
              "      <td>36.73</td>\n",
              "      <td>39.46</td>\n",
              "      <td>37.50</td>\n",
              "      <td>39.10</td>\n",
              "      <td>0</td>\n",
              "    </tr>\n",
              "    <tr>\n",
              "      <th>1</th>\n",
              "      <td>1.83</td>\n",
              "      <td>1.71</td>\n",
              "      <td>1.77</td>\n",
              "      <td>1.77</td>\n",
              "      <td>1.68</td>\n",
              "      <td>1.78</td>\n",
              "      <td>1.80</td>\n",
              "      <td>1.70</td>\n",
              "      <td>1.75</td>\n",
              "      <td>1.78</td>\n",
              "      <td>...</td>\n",
              "      <td>1.80</td>\n",
              "      <td>1.79</td>\n",
              "      <td>1.77</td>\n",
              "      <td>1.74</td>\n",
              "      <td>1.74</td>\n",
              "      <td>1.80</td>\n",
              "      <td>1.78</td>\n",
              "      <td>1.75</td>\n",
              "      <td>1.69</td>\n",
              "      <td>1</td>\n",
              "    </tr>\n",
              "    <tr>\n",
              "      <th>2</th>\n",
              "      <td>68177.69</td>\n",
              "      <td>66138.42</td>\n",
              "      <td>72981.88</td>\n",
              "      <td>74304.33</td>\n",
              "      <td>67549.66</td>\n",
              "      <td>69367.34</td>\n",
              "      <td>69169.41</td>\n",
              "      <td>73268.61</td>\n",
              "      <td>74465.84</td>\n",
              "      <td>72503.37</td>\n",
              "      <td>...</td>\n",
              "      <td>73438.88</td>\n",
              "      <td>71053.35</td>\n",
              "      <td>71112.62</td>\n",
              "      <td>74916.48</td>\n",
              "      <td>72571.58</td>\n",
              "      <td>66348.97</td>\n",
              "      <td>71063.72</td>\n",
              "      <td>67404.27</td>\n",
              "      <td>74920.24</td>\n",
              "      <td>1</td>\n",
              "    </tr>\n",
              "    <tr>\n",
              "      <th>3</th>\n",
              "      <td>44889.06</td>\n",
              "      <td>39191.86</td>\n",
              "      <td>40728.46</td>\n",
              "      <td>38576.36</td>\n",
              "      <td>45876.06</td>\n",
              "      <td>47034.00</td>\n",
              "      <td>46611.43</td>\n",
              "      <td>37668.32</td>\n",
              "      <td>40980.89</td>\n",
              "      <td>38466.15</td>\n",
              "      <td>...</td>\n",
              "      <td>42625.67</td>\n",
              "      <td>40684.20</td>\n",
              "      <td>46960.73</td>\n",
              "      <td>44546.80</td>\n",
              "      <td>45410.53</td>\n",
              "      <td>47139.44</td>\n",
              "      <td>43095.68</td>\n",
              "      <td>40888.34</td>\n",
              "      <td>39615.19</td>\n",
              "      <td>0</td>\n",
              "    </tr>\n",
              "    <tr>\n",
              "      <th>4</th>\n",
              "      <td>5.70</td>\n",
              "      <td>5.40</td>\n",
              "      <td>5.28</td>\n",
              "      <td>5.38</td>\n",
              "      <td>5.27</td>\n",
              "      <td>5.61</td>\n",
              "      <td>6.00</td>\n",
              "      <td>5.38</td>\n",
              "      <td>5.34</td>\n",
              "      <td>5.87</td>\n",
              "      <td>...</td>\n",
              "      <td>5.17</td>\n",
              "      <td>5.67</td>\n",
              "      <td>5.60</td>\n",
              "      <td>5.94</td>\n",
              "      <td>5.73</td>\n",
              "      <td>5.22</td>\n",
              "      <td>5.30</td>\n",
              "      <td>5.73</td>\n",
              "      <td>5.91</td>\n",
              "      <td>0</td>\n",
              "    </tr>\n",
              "  </tbody>\n",
              "</table>\n",
              "<p>5 rows × 101 columns</p>\n",
              "</div>\n",
              "      <button class=\"colab-df-convert\" onclick=\"convertToInteractive('df-78ac6409-a3bb-4e85-95bc-7c8f2d2c61d0')\"\n",
              "              title=\"Convert this dataframe to an interactive table.\"\n",
              "              style=\"display:none;\">\n",
              "\n",
              "  <svg xmlns=\"http://www.w3.org/2000/svg\" height=\"24px\"viewBox=\"0 0 24 24\"\n",
              "       width=\"24px\">\n",
              "    <path d=\"M0 0h24v24H0V0z\" fill=\"none\"/>\n",
              "    <path d=\"M18.56 5.44l.94 2.06.94-2.06 2.06-.94-2.06-.94-.94-2.06-.94 2.06-2.06.94zm-11 1L8.5 8.5l.94-2.06 2.06-.94-2.06-.94L8.5 2.5l-.94 2.06-2.06.94zm10 10l.94 2.06.94-2.06 2.06-.94-2.06-.94-.94-2.06-.94 2.06-2.06.94z\"/><path d=\"M17.41 7.96l-1.37-1.37c-.4-.4-.92-.59-1.43-.59-.52 0-1.04.2-1.43.59L10.3 9.45l-7.72 7.72c-.78.78-.78 2.05 0 2.83L4 21.41c.39.39.9.59 1.41.59.51 0 1.02-.2 1.41-.59l7.78-7.78 2.81-2.81c.8-.78.8-2.07 0-2.86zM5.41 20L4 18.59l7.72-7.72 1.47 1.35L5.41 20z\"/>\n",
              "  </svg>\n",
              "      </button>\n",
              "\n",
              "\n",
              "\n",
              "    <div id=\"df-c4381cd6-641b-4bac-bf94-c4182013d590\">\n",
              "      <button class=\"colab-df-quickchart\" onclick=\"quickchart('df-c4381cd6-641b-4bac-bf94-c4182013d590')\"\n",
              "              title=\"Suggest charts.\"\n",
              "              style=\"display:none;\">\n",
              "\n",
              "<svg xmlns=\"http://www.w3.org/2000/svg\" height=\"24px\"viewBox=\"0 0 24 24\"\n",
              "     width=\"24px\">\n",
              "    <g>\n",
              "        <path d=\"M19 3H5c-1.1 0-2 .9-2 2v14c0 1.1.9 2 2 2h14c1.1 0 2-.9 2-2V5c0-1.1-.9-2-2-2zM9 17H7v-7h2v7zm4 0h-2V7h2v10zm4 0h-2v-4h2v4z\"/>\n",
              "    </g>\n",
              "</svg>\n",
              "      </button>\n",
              "    </div>\n",
              "\n",
              "<style>\n",
              "  .colab-df-quickchart {\n",
              "    background-color: #E8F0FE;\n",
              "    border: none;\n",
              "    border-radius: 50%;\n",
              "    cursor: pointer;\n",
              "    display: none;\n",
              "    fill: #1967D2;\n",
              "    height: 32px;\n",
              "    padding: 0 0 0 0;\n",
              "    width: 32px;\n",
              "  }\n",
              "\n",
              "  .colab-df-quickchart:hover {\n",
              "    background-color: #E2EBFA;\n",
              "    box-shadow: 0px 1px 2px rgba(60, 64, 67, 0.3), 0px 1px 3px 1px rgba(60, 64, 67, 0.15);\n",
              "    fill: #174EA6;\n",
              "  }\n",
              "\n",
              "  [theme=dark] .colab-df-quickchart {\n",
              "    background-color: #3B4455;\n",
              "    fill: #D2E3FC;\n",
              "  }\n",
              "\n",
              "  [theme=dark] .colab-df-quickchart:hover {\n",
              "    background-color: #434B5C;\n",
              "    box-shadow: 0px 1px 3px 1px rgba(0, 0, 0, 0.15);\n",
              "    filter: drop-shadow(0px 1px 2px rgba(0, 0, 0, 0.3));\n",
              "    fill: #FFFFFF;\n",
              "  }\n",
              "</style>\n",
              "\n",
              "    <script>\n",
              "      async function quickchart(key) {\n",
              "        const containerElement = document.querySelector('#' + key);\n",
              "        const charts = await google.colab.kernel.invokeFunction(\n",
              "            'suggestCharts', [key], {});\n",
              "      }\n",
              "    </script>\n",
              "\n",
              "      <script>\n",
              "\n",
              "function displayQuickchartButton(domScope) {\n",
              "  let quickchartButtonEl =\n",
              "    domScope.querySelector('#df-c4381cd6-641b-4bac-bf94-c4182013d590 button.colab-df-quickchart');\n",
              "  quickchartButtonEl.style.display =\n",
              "    google.colab.kernel.accessAllowed ? 'block' : 'none';\n",
              "}\n",
              "\n",
              "        displayQuickchartButton(document);\n",
              "      </script>\n",
              "      <style>\n",
              "    .colab-df-container {\n",
              "      display:flex;\n",
              "      flex-wrap:wrap;\n",
              "      gap: 12px;\n",
              "    }\n",
              "\n",
              "    .colab-df-convert {\n",
              "      background-color: #E8F0FE;\n",
              "      border: none;\n",
              "      border-radius: 50%;\n",
              "      cursor: pointer;\n",
              "      display: none;\n",
              "      fill: #1967D2;\n",
              "      height: 32px;\n",
              "      padding: 0 0 0 0;\n",
              "      width: 32px;\n",
              "    }\n",
              "\n",
              "    .colab-df-convert:hover {\n",
              "      background-color: #E2EBFA;\n",
              "      box-shadow: 0px 1px 2px rgba(60, 64, 67, 0.3), 0px 1px 3px 1px rgba(60, 64, 67, 0.15);\n",
              "      fill: #174EA6;\n",
              "    }\n",
              "\n",
              "    [theme=dark] .colab-df-convert {\n",
              "      background-color: #3B4455;\n",
              "      fill: #D2E3FC;\n",
              "    }\n",
              "\n",
              "    [theme=dark] .colab-df-convert:hover {\n",
              "      background-color: #434B5C;\n",
              "      box-shadow: 0px 1px 3px 1px rgba(0, 0, 0, 0.15);\n",
              "      filter: drop-shadow(0px 1px 2px rgba(0, 0, 0, 0.3));\n",
              "      fill: #FFFFFF;\n",
              "    }\n",
              "  </style>\n",
              "\n",
              "      <script>\n",
              "        const buttonEl =\n",
              "          document.querySelector('#df-78ac6409-a3bb-4e85-95bc-7c8f2d2c61d0 button.colab-df-convert');\n",
              "        buttonEl.style.display =\n",
              "          google.colab.kernel.accessAllowed ? 'block' : 'none';\n",
              "\n",
              "        async function convertToInteractive(key) {\n",
              "          const element = document.querySelector('#df-78ac6409-a3bb-4e85-95bc-7c8f2d2c61d0');\n",
              "          const dataTable =\n",
              "            await google.colab.kernel.invokeFunction('convertToInteractive',\n",
              "                                                     [key], {});\n",
              "          if (!dataTable) return;\n",
              "\n",
              "          const docLinkHtml = 'Like what you see? Visit the ' +\n",
              "            '<a target=\"_blank\" href=https://colab.research.google.com/notebooks/data_table.ipynb>data table notebook</a>'\n",
              "            + ' to learn more about interactive tables.';\n",
              "          element.innerHTML = '';\n",
              "          dataTable['output_type'] = 'display_data';\n",
              "          await google.colab.output.renderOutput(dataTable, element);\n",
              "          const docLink = document.createElement('div');\n",
              "          docLink.innerHTML = docLinkHtml;\n",
              "          element.appendChild(docLink);\n",
              "        }\n",
              "      </script>\n",
              "    </div>\n",
              "  </div>\n"
            ]
          },
          "metadata": {},
          "execution_count": 12
        }
      ]
    },
    {
      "cell_type": "markdown",
      "source": [
        "### **Data Visualisation**"
      ],
      "metadata": {
        "id": "Rk_lastdbjBJ"
      }
    },
    {
      "cell_type": "code",
      "source": [
        "Valley.info()"
      ],
      "metadata": {
        "colab": {
          "base_uri": "https://localhost:8080/"
        },
        "id": "ByON1zmrbo-T",
        "outputId": "e5fe75c6-bb34-4686-ba77-119da1425a94"
      },
      "execution_count": null,
      "outputs": [
        {
          "output_type": "stream",
          "name": "stdout",
          "text": [
            "<class 'pandas.core.frame.DataFrame'>\n",
            "RangeIndex: 1212 entries, 0 to 1211\n",
            "Columns: 101 entries, V1 to Class\n",
            "dtypes: float64(100), int64(1)\n",
            "memory usage: 956.5 KB\n"
          ]
        }
      ]
    },
    {
      "cell_type": "markdown",
      "source": [
        "### **Data Preprocessing**"
      ],
      "metadata": {
        "id": "1L3rUpOmbu_2"
      }
    },
    {
      "cell_type": "code",
      "source": [
        "Valley.describe()"
      ],
      "metadata": {
        "colab": {
          "base_uri": "https://localhost:8080/",
          "height": 393
        },
        "id": "Pg-5dST9cSGR",
        "outputId": "ff3d4b4a-d358-455f-fb14-4d37e95a5e88"
      },
      "execution_count": null,
      "outputs": [
        {
          "output_type": "execute_result",
          "data": {
            "text/plain": [
              "                  V1             V2             V3             V4  \\\n",
              "count    1212.000000    1212.000000    1212.000000    1212.000000   \n",
              "mean     8169.091881    8144.306262    8192.653738    8176.868738   \n",
              "std     17974.950461   17881.049734   18087.938901   17991.903982   \n",
              "min         0.920000       0.900000       0.850000       0.890000   \n",
              "25%        19.602500      19.595000      18.925000      19.277500   \n",
              "50%       301.425000     295.205000     297.260000     299.720000   \n",
              "75%      5358.795000    5417.847500    5393.367500    5388.482500   \n",
              "max    117807.870000  108896.480000  119031.350000  110212.590000   \n",
              "\n",
              "                  V5             V6             V7             V8  \\\n",
              "count    1212.000000    1212.000000    1212.000000    1212.000000   \n",
              "mean     8128.297211    8173.030008    8188.582748    8183.641543   \n",
              "std     17846.757963   17927.114105   18029.562695   18048.582159   \n",
              "min         0.880000       0.860000       0.870000       0.650000   \n",
              "25%        19.210000      19.582500      18.690000      19.062500   \n",
              "50%       295.115000     294.380000     295.935000     290.850000   \n",
              "75%      5321.987500    5328.040000    5443.977500    5283.655000   \n",
              "max    113000.470000  116848.390000  115609.240000  118522.320000   \n",
              "\n",
              "                  V9            V10  ...            V92            V93  \\\n",
              "count    1212.000000    1212.000000  ...    1212.000000    1212.000000   \n",
              "mean     8154.670066    8120.767574  ...    8120.056815    8125.917409   \n",
              "std     17982.390713   17900.798206  ...   17773.190621   17758.182403   \n",
              "min         0.650000       0.620000  ...       0.870000       0.900000   \n",
              "25%        19.532500      19.285000  ...      19.197500      18.895000   \n",
              "50%       294.565000     295.160000  ...     297.845000     295.420000   \n",
              "75%      5378.180000    5319.097500  ...    5355.355000    5386.037500   \n",
              "max    112895.900000  117798.300000  ...  113858.680000  112948.830000   \n",
              "\n",
              "                 V94            V95            V96            V97  \\\n",
              "count    1212.000000    1212.000000    1212.000000    1212.000000   \n",
              "mean     8158.793812    8140.885421    8213.480611    8185.594002   \n",
              "std     17919.510371   17817.945646   18016.445265   17956.084223   \n",
              "min         0.870000       0.880000       0.890000       0.890000   \n",
              "25%        19.237500      19.385000      19.027500      19.135000   \n",
              "50%       299.155000     293.355000     301.370000     296.960000   \n",
              "75%      5286.385000    5345.797500    5300.890000    5361.047500   \n",
              "max    112409.570000  112933.730000  112037.220000  115110.420000   \n",
              "\n",
              "                 V98            V99           V100        Class  \n",
              "count    1212.000000    1212.000000    1212.000000  1212.000000  \n",
              "mean     8140.195355    8192.960891    8156.197376     0.500000  \n",
              "std     17768.356106   18064.781479   17829.310973     0.500206  \n",
              "min         0.860000       0.910000       0.890000     0.000000  \n",
              "25%        19.205000      18.812500      19.145000     0.000000  \n",
              "50%       300.925000     299.200000     302.275000     0.500000  \n",
              "75%      5390.850000    5288.712500    5357.847500     1.000000  \n",
              "max    116431.960000  113291.960000  114533.760000     1.000000  \n",
              "\n",
              "[8 rows x 101 columns]"
            ],
            "text/html": [
              "\n",
              "\n",
              "  <div id=\"df-e4f30ae9-a0aa-4fc9-833e-ec91b54916a8\">\n",
              "    <div class=\"colab-df-container\">\n",
              "      <div>\n",
              "<style scoped>\n",
              "    .dataframe tbody tr th:only-of-type {\n",
              "        vertical-align: middle;\n",
              "    }\n",
              "\n",
              "    .dataframe tbody tr th {\n",
              "        vertical-align: top;\n",
              "    }\n",
              "\n",
              "    .dataframe thead th {\n",
              "        text-align: right;\n",
              "    }\n",
              "</style>\n",
              "<table border=\"1\" class=\"dataframe\">\n",
              "  <thead>\n",
              "    <tr style=\"text-align: right;\">\n",
              "      <th></th>\n",
              "      <th>V1</th>\n",
              "      <th>V2</th>\n",
              "      <th>V3</th>\n",
              "      <th>V4</th>\n",
              "      <th>V5</th>\n",
              "      <th>V6</th>\n",
              "      <th>V7</th>\n",
              "      <th>V8</th>\n",
              "      <th>V9</th>\n",
              "      <th>V10</th>\n",
              "      <th>...</th>\n",
              "      <th>V92</th>\n",
              "      <th>V93</th>\n",
              "      <th>V94</th>\n",
              "      <th>V95</th>\n",
              "      <th>V96</th>\n",
              "      <th>V97</th>\n",
              "      <th>V98</th>\n",
              "      <th>V99</th>\n",
              "      <th>V100</th>\n",
              "      <th>Class</th>\n",
              "    </tr>\n",
              "  </thead>\n",
              "  <tbody>\n",
              "    <tr>\n",
              "      <th>count</th>\n",
              "      <td>1212.000000</td>\n",
              "      <td>1212.000000</td>\n",
              "      <td>1212.000000</td>\n",
              "      <td>1212.000000</td>\n",
              "      <td>1212.000000</td>\n",
              "      <td>1212.000000</td>\n",
              "      <td>1212.000000</td>\n",
              "      <td>1212.000000</td>\n",
              "      <td>1212.000000</td>\n",
              "      <td>1212.000000</td>\n",
              "      <td>...</td>\n",
              "      <td>1212.000000</td>\n",
              "      <td>1212.000000</td>\n",
              "      <td>1212.000000</td>\n",
              "      <td>1212.000000</td>\n",
              "      <td>1212.000000</td>\n",
              "      <td>1212.000000</td>\n",
              "      <td>1212.000000</td>\n",
              "      <td>1212.000000</td>\n",
              "      <td>1212.000000</td>\n",
              "      <td>1212.000000</td>\n",
              "    </tr>\n",
              "    <tr>\n",
              "      <th>mean</th>\n",
              "      <td>8169.091881</td>\n",
              "      <td>8144.306262</td>\n",
              "      <td>8192.653738</td>\n",
              "      <td>8176.868738</td>\n",
              "      <td>8128.297211</td>\n",
              "      <td>8173.030008</td>\n",
              "      <td>8188.582748</td>\n",
              "      <td>8183.641543</td>\n",
              "      <td>8154.670066</td>\n",
              "      <td>8120.767574</td>\n",
              "      <td>...</td>\n",
              "      <td>8120.056815</td>\n",
              "      <td>8125.917409</td>\n",
              "      <td>8158.793812</td>\n",
              "      <td>8140.885421</td>\n",
              "      <td>8213.480611</td>\n",
              "      <td>8185.594002</td>\n",
              "      <td>8140.195355</td>\n",
              "      <td>8192.960891</td>\n",
              "      <td>8156.197376</td>\n",
              "      <td>0.500000</td>\n",
              "    </tr>\n",
              "    <tr>\n",
              "      <th>std</th>\n",
              "      <td>17974.950461</td>\n",
              "      <td>17881.049734</td>\n",
              "      <td>18087.938901</td>\n",
              "      <td>17991.903982</td>\n",
              "      <td>17846.757963</td>\n",
              "      <td>17927.114105</td>\n",
              "      <td>18029.562695</td>\n",
              "      <td>18048.582159</td>\n",
              "      <td>17982.390713</td>\n",
              "      <td>17900.798206</td>\n",
              "      <td>...</td>\n",
              "      <td>17773.190621</td>\n",
              "      <td>17758.182403</td>\n",
              "      <td>17919.510371</td>\n",
              "      <td>17817.945646</td>\n",
              "      <td>18016.445265</td>\n",
              "      <td>17956.084223</td>\n",
              "      <td>17768.356106</td>\n",
              "      <td>18064.781479</td>\n",
              "      <td>17829.310973</td>\n",
              "      <td>0.500206</td>\n",
              "    </tr>\n",
              "    <tr>\n",
              "      <th>min</th>\n",
              "      <td>0.920000</td>\n",
              "      <td>0.900000</td>\n",
              "      <td>0.850000</td>\n",
              "      <td>0.890000</td>\n",
              "      <td>0.880000</td>\n",
              "      <td>0.860000</td>\n",
              "      <td>0.870000</td>\n",
              "      <td>0.650000</td>\n",
              "      <td>0.650000</td>\n",
              "      <td>0.620000</td>\n",
              "      <td>...</td>\n",
              "      <td>0.870000</td>\n",
              "      <td>0.900000</td>\n",
              "      <td>0.870000</td>\n",
              "      <td>0.880000</td>\n",
              "      <td>0.890000</td>\n",
              "      <td>0.890000</td>\n",
              "      <td>0.860000</td>\n",
              "      <td>0.910000</td>\n",
              "      <td>0.890000</td>\n",
              "      <td>0.000000</td>\n",
              "    </tr>\n",
              "    <tr>\n",
              "      <th>25%</th>\n",
              "      <td>19.602500</td>\n",
              "      <td>19.595000</td>\n",
              "      <td>18.925000</td>\n",
              "      <td>19.277500</td>\n",
              "      <td>19.210000</td>\n",
              "      <td>19.582500</td>\n",
              "      <td>18.690000</td>\n",
              "      <td>19.062500</td>\n",
              "      <td>19.532500</td>\n",
              "      <td>19.285000</td>\n",
              "      <td>...</td>\n",
              "      <td>19.197500</td>\n",
              "      <td>18.895000</td>\n",
              "      <td>19.237500</td>\n",
              "      <td>19.385000</td>\n",
              "      <td>19.027500</td>\n",
              "      <td>19.135000</td>\n",
              "      <td>19.205000</td>\n",
              "      <td>18.812500</td>\n",
              "      <td>19.145000</td>\n",
              "      <td>0.000000</td>\n",
              "    </tr>\n",
              "    <tr>\n",
              "      <th>50%</th>\n",
              "      <td>301.425000</td>\n",
              "      <td>295.205000</td>\n",
              "      <td>297.260000</td>\n",
              "      <td>299.720000</td>\n",
              "      <td>295.115000</td>\n",
              "      <td>294.380000</td>\n",
              "      <td>295.935000</td>\n",
              "      <td>290.850000</td>\n",
              "      <td>294.565000</td>\n",
              "      <td>295.160000</td>\n",
              "      <td>...</td>\n",
              "      <td>297.845000</td>\n",
              "      <td>295.420000</td>\n",
              "      <td>299.155000</td>\n",
              "      <td>293.355000</td>\n",
              "      <td>301.370000</td>\n",
              "      <td>296.960000</td>\n",
              "      <td>300.925000</td>\n",
              "      <td>299.200000</td>\n",
              "      <td>302.275000</td>\n",
              "      <td>0.500000</td>\n",
              "    </tr>\n",
              "    <tr>\n",
              "      <th>75%</th>\n",
              "      <td>5358.795000</td>\n",
              "      <td>5417.847500</td>\n",
              "      <td>5393.367500</td>\n",
              "      <td>5388.482500</td>\n",
              "      <td>5321.987500</td>\n",
              "      <td>5328.040000</td>\n",
              "      <td>5443.977500</td>\n",
              "      <td>5283.655000</td>\n",
              "      <td>5378.180000</td>\n",
              "      <td>5319.097500</td>\n",
              "      <td>...</td>\n",
              "      <td>5355.355000</td>\n",
              "      <td>5386.037500</td>\n",
              "      <td>5286.385000</td>\n",
              "      <td>5345.797500</td>\n",
              "      <td>5300.890000</td>\n",
              "      <td>5361.047500</td>\n",
              "      <td>5390.850000</td>\n",
              "      <td>5288.712500</td>\n",
              "      <td>5357.847500</td>\n",
              "      <td>1.000000</td>\n",
              "    </tr>\n",
              "    <tr>\n",
              "      <th>max</th>\n",
              "      <td>117807.870000</td>\n",
              "      <td>108896.480000</td>\n",
              "      <td>119031.350000</td>\n",
              "      <td>110212.590000</td>\n",
              "      <td>113000.470000</td>\n",
              "      <td>116848.390000</td>\n",
              "      <td>115609.240000</td>\n",
              "      <td>118522.320000</td>\n",
              "      <td>112895.900000</td>\n",
              "      <td>117798.300000</td>\n",
              "      <td>...</td>\n",
              "      <td>113858.680000</td>\n",
              "      <td>112948.830000</td>\n",
              "      <td>112409.570000</td>\n",
              "      <td>112933.730000</td>\n",
              "      <td>112037.220000</td>\n",
              "      <td>115110.420000</td>\n",
              "      <td>116431.960000</td>\n",
              "      <td>113291.960000</td>\n",
              "      <td>114533.760000</td>\n",
              "      <td>1.000000</td>\n",
              "    </tr>\n",
              "  </tbody>\n",
              "</table>\n",
              "<p>8 rows × 101 columns</p>\n",
              "</div>\n",
              "      <button class=\"colab-df-convert\" onclick=\"convertToInteractive('df-e4f30ae9-a0aa-4fc9-833e-ec91b54916a8')\"\n",
              "              title=\"Convert this dataframe to an interactive table.\"\n",
              "              style=\"display:none;\">\n",
              "\n",
              "  <svg xmlns=\"http://www.w3.org/2000/svg\" height=\"24px\"viewBox=\"0 0 24 24\"\n",
              "       width=\"24px\">\n",
              "    <path d=\"M0 0h24v24H0V0z\" fill=\"none\"/>\n",
              "    <path d=\"M18.56 5.44l.94 2.06.94-2.06 2.06-.94-2.06-.94-.94-2.06-.94 2.06-2.06.94zm-11 1L8.5 8.5l.94-2.06 2.06-.94-2.06-.94L8.5 2.5l-.94 2.06-2.06.94zm10 10l.94 2.06.94-2.06 2.06-.94-2.06-.94-.94-2.06-.94 2.06-2.06.94z\"/><path d=\"M17.41 7.96l-1.37-1.37c-.4-.4-.92-.59-1.43-.59-.52 0-1.04.2-1.43.59L10.3 9.45l-7.72 7.72c-.78.78-.78 2.05 0 2.83L4 21.41c.39.39.9.59 1.41.59.51 0 1.02-.2 1.41-.59l7.78-7.78 2.81-2.81c.8-.78.8-2.07 0-2.86zM5.41 20L4 18.59l7.72-7.72 1.47 1.35L5.41 20z\"/>\n",
              "  </svg>\n",
              "      </button>\n",
              "\n",
              "\n",
              "\n",
              "    <div id=\"df-422a182e-68d1-44cc-8591-7450329a37d5\">\n",
              "      <button class=\"colab-df-quickchart\" onclick=\"quickchart('df-422a182e-68d1-44cc-8591-7450329a37d5')\"\n",
              "              title=\"Suggest charts.\"\n",
              "              style=\"display:none;\">\n",
              "\n",
              "<svg xmlns=\"http://www.w3.org/2000/svg\" height=\"24px\"viewBox=\"0 0 24 24\"\n",
              "     width=\"24px\">\n",
              "    <g>\n",
              "        <path d=\"M19 3H5c-1.1 0-2 .9-2 2v14c0 1.1.9 2 2 2h14c1.1 0 2-.9 2-2V5c0-1.1-.9-2-2-2zM9 17H7v-7h2v7zm4 0h-2V7h2v10zm4 0h-2v-4h2v4z\"/>\n",
              "    </g>\n",
              "</svg>\n",
              "      </button>\n",
              "    </div>\n",
              "\n",
              "<style>\n",
              "  .colab-df-quickchart {\n",
              "    background-color: #E8F0FE;\n",
              "    border: none;\n",
              "    border-radius: 50%;\n",
              "    cursor: pointer;\n",
              "    display: none;\n",
              "    fill: #1967D2;\n",
              "    height: 32px;\n",
              "    padding: 0 0 0 0;\n",
              "    width: 32px;\n",
              "  }\n",
              "\n",
              "  .colab-df-quickchart:hover {\n",
              "    background-color: #E2EBFA;\n",
              "    box-shadow: 0px 1px 2px rgba(60, 64, 67, 0.3), 0px 1px 3px 1px rgba(60, 64, 67, 0.15);\n",
              "    fill: #174EA6;\n",
              "  }\n",
              "\n",
              "  [theme=dark] .colab-df-quickchart {\n",
              "    background-color: #3B4455;\n",
              "    fill: #D2E3FC;\n",
              "  }\n",
              "\n",
              "  [theme=dark] .colab-df-quickchart:hover {\n",
              "    background-color: #434B5C;\n",
              "    box-shadow: 0px 1px 3px 1px rgba(0, 0, 0, 0.15);\n",
              "    filter: drop-shadow(0px 1px 2px rgba(0, 0, 0, 0.3));\n",
              "    fill: #FFFFFF;\n",
              "  }\n",
              "</style>\n",
              "\n",
              "    <script>\n",
              "      async function quickchart(key) {\n",
              "        const containerElement = document.querySelector('#' + key);\n",
              "        const charts = await google.colab.kernel.invokeFunction(\n",
              "            'suggestCharts', [key], {});\n",
              "      }\n",
              "    </script>\n",
              "\n",
              "      <script>\n",
              "\n",
              "function displayQuickchartButton(domScope) {\n",
              "  let quickchartButtonEl =\n",
              "    domScope.querySelector('#df-422a182e-68d1-44cc-8591-7450329a37d5 button.colab-df-quickchart');\n",
              "  quickchartButtonEl.style.display =\n",
              "    google.colab.kernel.accessAllowed ? 'block' : 'none';\n",
              "}\n",
              "\n",
              "        displayQuickchartButton(document);\n",
              "      </script>\n",
              "      <style>\n",
              "    .colab-df-container {\n",
              "      display:flex;\n",
              "      flex-wrap:wrap;\n",
              "      gap: 12px;\n",
              "    }\n",
              "\n",
              "    .colab-df-convert {\n",
              "      background-color: #E8F0FE;\n",
              "      border: none;\n",
              "      border-radius: 50%;\n",
              "      cursor: pointer;\n",
              "      display: none;\n",
              "      fill: #1967D2;\n",
              "      height: 32px;\n",
              "      padding: 0 0 0 0;\n",
              "      width: 32px;\n",
              "    }\n",
              "\n",
              "    .colab-df-convert:hover {\n",
              "      background-color: #E2EBFA;\n",
              "      box-shadow: 0px 1px 2px rgba(60, 64, 67, 0.3), 0px 1px 3px 1px rgba(60, 64, 67, 0.15);\n",
              "      fill: #174EA6;\n",
              "    }\n",
              "\n",
              "    [theme=dark] .colab-df-convert {\n",
              "      background-color: #3B4455;\n",
              "      fill: #D2E3FC;\n",
              "    }\n",
              "\n",
              "    [theme=dark] .colab-df-convert:hover {\n",
              "      background-color: #434B5C;\n",
              "      box-shadow: 0px 1px 3px 1px rgba(0, 0, 0, 0.15);\n",
              "      filter: drop-shadow(0px 1px 2px rgba(0, 0, 0, 0.3));\n",
              "      fill: #FFFFFF;\n",
              "    }\n",
              "  </style>\n",
              "\n",
              "      <script>\n",
              "        const buttonEl =\n",
              "          document.querySelector('#df-e4f30ae9-a0aa-4fc9-833e-ec91b54916a8 button.colab-df-convert');\n",
              "        buttonEl.style.display =\n",
              "          google.colab.kernel.accessAllowed ? 'block' : 'none';\n",
              "\n",
              "        async function convertToInteractive(key) {\n",
              "          const element = document.querySelector('#df-e4f30ae9-a0aa-4fc9-833e-ec91b54916a8');\n",
              "          const dataTable =\n",
              "            await google.colab.kernel.invokeFunction('convertToInteractive',\n",
              "                                                     [key], {});\n",
              "          if (!dataTable) return;\n",
              "\n",
              "          const docLinkHtml = 'Like what you see? Visit the ' +\n",
              "            '<a target=\"_blank\" href=https://colab.research.google.com/notebooks/data_table.ipynb>data table notebook</a>'\n",
              "            + ' to learn more about interactive tables.';\n",
              "          element.innerHTML = '';\n",
              "          dataTable['output_type'] = 'display_data';\n",
              "          await google.colab.output.renderOutput(dataTable, element);\n",
              "          const docLink = document.createElement('div');\n",
              "          docLink.innerHTML = docLinkHtml;\n",
              "          element.appendChild(docLink);\n",
              "        }\n",
              "      </script>\n",
              "    </div>\n",
              "  </div>\n"
            ]
          },
          "metadata": {},
          "execution_count": 14
        }
      ]
    },
    {
      "cell_type": "markdown",
      "source": [
        "### **Define Target Variable (y) and Feature Variables (x)**"
      ],
      "metadata": {
        "id": "PncDjmyrckMo"
      }
    },
    {
      "cell_type": "code",
      "source": [
        "y = Valley['Class']"
      ],
      "metadata": {
        "id": "0EXa7US8dx3h"
      },
      "execution_count": null,
      "outputs": []
    },
    {
      "cell_type": "code",
      "source": [
        "x = Valley.drop(['Class'],axis = 1)"
      ],
      "metadata": {
        "id": "fpH-kPimd22f"
      },
      "execution_count": null,
      "outputs": []
    },
    {
      "cell_type": "markdown",
      "source": [
        "### **Train Test Split**"
      ],
      "metadata": {
        "id": "-M2E7VI2fUiP"
      }
    },
    {
      "cell_type": "code",
      "source": [
        "from sklearn.model_selection import train_test_split"
      ],
      "metadata": {
        "id": "158VC4LZfeTn"
      },
      "execution_count": null,
      "outputs": []
    },
    {
      "cell_type": "code",
      "source": [
        "x_train, x_test, y_train, y_test = train_test_split(x,y,test_size= 0.3,stratify = y ,random_state = 2529)"
      ],
      "metadata": {
        "id": "ILEBg2TofqFG"
      },
      "execution_count": null,
      "outputs": []
    },
    {
      "cell_type": "code",
      "source": [
        "x_train.shape, x_test.shape, y_train.shape, y_test.shape"
      ],
      "metadata": {
        "colab": {
          "base_uri": "https://localhost:8080/"
        },
        "id": "8kRPXWCef_sF",
        "outputId": "18261b9d-770b-48b6-d8df-69fbd283663e"
      },
      "execution_count": null,
      "outputs": [
        {
          "output_type": "execute_result",
          "data": {
            "text/plain": [
              "((848, 100), (364, 100), (848,), (364,))"
            ]
          },
          "metadata": {},
          "execution_count": 22
        }
      ]
    },
    {
      "cell_type": "markdown",
      "source": [
        "### **Modeling**"
      ],
      "metadata": {
        "id": "T14VzBn-hBSc"
      }
    },
    {
      "cell_type": "code",
      "source": [
        "from sklearn.linear_model import LogisticRegression"
      ],
      "metadata": {
        "id": "XACte_glhHQH"
      },
      "execution_count": null,
      "outputs": []
    },
    {
      "cell_type": "code",
      "source": [
        "model= LogisticRegression(max_iter=10000)"
      ],
      "metadata": {
        "id": "AH07cCyDhRYj"
      },
      "execution_count": null,
      "outputs": []
    },
    {
      "cell_type": "markdown",
      "source": [
        "### **Model Evaluation**"
      ],
      "metadata": {
        "id": "y-xRTXMtiCXY"
      }
    },
    {
      "cell_type": "code",
      "source": [
        "model.fit(x_train, y_train)"
      ],
      "metadata": {
        "colab": {
          "base_uri": "https://localhost:8080/",
          "height": 74
        },
        "id": "EJXhy0WgiNCt",
        "outputId": "82272cb9-f60a-41aa-a5ec-eccfec684c48"
      },
      "execution_count": null,
      "outputs": [
        {
          "output_type": "execute_result",
          "data": {
            "text/plain": [
              "LogisticRegression(max_iter=10000)"
            ],
            "text/html": [
              "<style>#sk-container-id-7 {color: black;background-color: white;}#sk-container-id-7 pre{padding: 0;}#sk-container-id-7 div.sk-toggleable {background-color: white;}#sk-container-id-7 label.sk-toggleable__label {cursor: pointer;display: block;width: 100%;margin-bottom: 0;padding: 0.3em;box-sizing: border-box;text-align: center;}#sk-container-id-7 label.sk-toggleable__label-arrow:before {content: \"▸\";float: left;margin-right: 0.25em;color: #696969;}#sk-container-id-7 label.sk-toggleable__label-arrow:hover:before {color: black;}#sk-container-id-7 div.sk-estimator:hover label.sk-toggleable__label-arrow:before {color: black;}#sk-container-id-7 div.sk-toggleable__content {max-height: 0;max-width: 0;overflow: hidden;text-align: left;background-color: #f0f8ff;}#sk-container-id-7 div.sk-toggleable__content pre {margin: 0.2em;color: black;border-radius: 0.25em;background-color: #f0f8ff;}#sk-container-id-7 input.sk-toggleable__control:checked~div.sk-toggleable__content {max-height: 200px;max-width: 100%;overflow: auto;}#sk-container-id-7 input.sk-toggleable__control:checked~label.sk-toggleable__label-arrow:before {content: \"▾\";}#sk-container-id-7 div.sk-estimator input.sk-toggleable__control:checked~label.sk-toggleable__label {background-color: #d4ebff;}#sk-container-id-7 div.sk-label input.sk-toggleable__control:checked~label.sk-toggleable__label {background-color: #d4ebff;}#sk-container-id-7 input.sk-hidden--visually {border: 0;clip: rect(1px 1px 1px 1px);clip: rect(1px, 1px, 1px, 1px);height: 1px;margin: -1px;overflow: hidden;padding: 0;position: absolute;width: 1px;}#sk-container-id-7 div.sk-estimator {font-family: monospace;background-color: #f0f8ff;border: 1px dotted black;border-radius: 0.25em;box-sizing: border-box;margin-bottom: 0.5em;}#sk-container-id-7 div.sk-estimator:hover {background-color: #d4ebff;}#sk-container-id-7 div.sk-parallel-item::after {content: \"\";width: 100%;border-bottom: 1px solid gray;flex-grow: 1;}#sk-container-id-7 div.sk-label:hover label.sk-toggleable__label {background-color: #d4ebff;}#sk-container-id-7 div.sk-serial::before {content: \"\";position: absolute;border-left: 1px solid gray;box-sizing: border-box;top: 0;bottom: 0;left: 50%;z-index: 0;}#sk-container-id-7 div.sk-serial {display: flex;flex-direction: column;align-items: center;background-color: white;padding-right: 0.2em;padding-left: 0.2em;position: relative;}#sk-container-id-7 div.sk-item {position: relative;z-index: 1;}#sk-container-id-7 div.sk-parallel {display: flex;align-items: stretch;justify-content: center;background-color: white;position: relative;}#sk-container-id-7 div.sk-item::before, #sk-container-id-7 div.sk-parallel-item::before {content: \"\";position: absolute;border-left: 1px solid gray;box-sizing: border-box;top: 0;bottom: 0;left: 50%;z-index: -1;}#sk-container-id-7 div.sk-parallel-item {display: flex;flex-direction: column;z-index: 1;position: relative;background-color: white;}#sk-container-id-7 div.sk-parallel-item:first-child::after {align-self: flex-end;width: 50%;}#sk-container-id-7 div.sk-parallel-item:last-child::after {align-self: flex-start;width: 50%;}#sk-container-id-7 div.sk-parallel-item:only-child::after {width: 0;}#sk-container-id-7 div.sk-dashed-wrapped {border: 1px dashed gray;margin: 0 0.4em 0.5em 0.4em;box-sizing: border-box;padding-bottom: 0.4em;background-color: white;}#sk-container-id-7 div.sk-label label {font-family: monospace;font-weight: bold;display: inline-block;line-height: 1.2em;}#sk-container-id-7 div.sk-label-container {text-align: center;}#sk-container-id-7 div.sk-container {/* jupyter's `normalize.less` sets `[hidden] { display: none; }` but bootstrap.min.css set `[hidden] { display: none !important; }` so we also need the `!important` here to be able to override the default hidden behavior on the sphinx rendered scikit-learn.org. See: https://github.com/scikit-learn/scikit-learn/issues/21755 */display: inline-block !important;position: relative;}#sk-container-id-7 div.sk-text-repr-fallback {display: none;}</style><div id=\"sk-container-id-7\" class=\"sk-top-container\"><div class=\"sk-text-repr-fallback\"><pre>LogisticRegression(max_iter=10000)</pre><b>In a Jupyter environment, please rerun this cell to show the HTML representation or trust the notebook. <br />On GitHub, the HTML representation is unable to render, please try loading this page with nbviewer.org.</b></div><div class=\"sk-container\" hidden><div class=\"sk-item\"><div class=\"sk-estimator sk-toggleable\"><input class=\"sk-toggleable__control sk-hidden--visually\" id=\"sk-estimator-id-7\" type=\"checkbox\" checked><label for=\"sk-estimator-id-7\" class=\"sk-toggleable__label sk-toggleable__label-arrow\">LogisticRegression</label><div class=\"sk-toggleable__content\"><pre>LogisticRegression(max_iter=10000)</pre></div></div></div></div></div>"
            ]
          },
          "metadata": {},
          "execution_count": 39
        }
      ]
    },
    {
      "cell_type": "code",
      "source": [
        "model.intercept_"
      ],
      "metadata": {
        "colab": {
          "base_uri": "https://localhost:8080/"
        },
        "id": "yVLT5Xn3iUhI",
        "outputId": "ea15ad39-bfab-4d49-a745-2acd391f7db0"
      },
      "execution_count": null,
      "outputs": [
        {
          "output_type": "execute_result",
          "data": {
            "text/plain": [
              "array([0.02136086])"
            ]
          },
          "metadata": {},
          "execution_count": 40
        }
      ]
    },
    {
      "cell_type": "code",
      "source": [
        "model.coef_"
      ],
      "metadata": {
        "colab": {
          "base_uri": "https://localhost:8080/"
        },
        "id": "-NEKGDywjOLq",
        "outputId": "d2f96b86-536c-49a8-8742-76aeffd41073"
      },
      "execution_count": null,
      "outputs": [
        {
          "output_type": "execute_result",
          "data": {
            "text/plain": [
              "array([[-1.73740005e+00, -1.30827583e+00, -1.09372800e+00,\n",
              "        -9.48506635e-01, -1.18120027e+00, -6.82810877e-01,\n",
              "        -7.78659416e-01, -5.98104227e-01, -4.70715687e-02,\n",
              "         1.04977354e+00,  9.85629913e-01,  3.14573156e-01,\n",
              "         7.09097940e-01, -1.22992684e-01,  5.23742616e-01,\n",
              "         2.23618631e-01,  3.68584369e-01,  4.17897263e-01,\n",
              "         2.88164207e-01,  8.05858264e-02,  2.81042304e-02,\n",
              "         2.62551011e-01,  6.67415646e-01,  5.79162610e-02,\n",
              "        -2.93351892e-01,  2.55284058e-01,  2.38488207e-01,\n",
              "         4.45639060e-01,  1.49204073e-01,  2.47738228e-01,\n",
              "         1.89039289e-01,  2.23426302e-01, -4.65506485e-01,\n",
              "         3.89334933e-01,  5.29028529e-01,  3.50463751e-02,\n",
              "         4.06418180e-01,  4.34801805e-01, -4.95251548e-02,\n",
              "        -3.47422196e-04,  1.17427044e-01, -8.43908135e-03,\n",
              "         4.26076804e-02,  4.10591430e-01,  3.04140164e-01,\n",
              "         9.88341675e-02,  1.87575673e-01,  1.30982444e-01,\n",
              "         3.21646102e-03, -1.13161211e-02, -1.92502203e-01,\n",
              "         7.57448073e-02,  4.51253200e-01, -1.07712670e-01,\n",
              "         9.27358532e-01,  1.68471398e-02,  7.54325547e-01,\n",
              "         1.45769503e-01, -2.80639340e-01, -3.17293558e-01,\n",
              "         3.79587302e-01, -2.39900944e-02,  3.68832145e-01,\n",
              "         3.62877541e-02, -8.64030778e-02,  2.87199497e-01,\n",
              "        -8.43349491e-02,  3.05341247e-01,  5.82971303e-02,\n",
              "         1.81488215e-01,  1.18345887e-01,  3.03056925e-01,\n",
              "         2.10988528e-01,  4.66633748e-01,  2.25415390e-01,\n",
              "        -4.21729973e-02,  2.71095973e-01,  1.21442517e-01,\n",
              "         4.09603623e-01, -1.98897620e-01,  2.91301366e-01,\n",
              "         3.78261860e-02,  4.46342161e-01,  2.65157066e-01,\n",
              "         4.16491601e-01,  8.00726077e-01,  1.72119581e-01,\n",
              "         5.04629023e-01,  7.10550646e-01,  4.76632867e-01,\n",
              "        -1.80059376e-01, -3.80776801e-01, -9.06690998e-01,\n",
              "        -9.40750673e-01, -5.56217506e-01, -1.46874486e+00,\n",
              "        -1.23818286e+00, -1.14558568e+00, -1.77082776e+00,\n",
              "        -1.80414105e+00]])"
            ]
          },
          "metadata": {},
          "execution_count": 41
        }
      ]
    },
    {
      "cell_type": "markdown",
      "source": [
        "### **Prediction**"
      ],
      "metadata": {
        "id": "_LjIT95SjY1h"
      }
    },
    {
      "cell_type": "code",
      "source": [
        "y_pred = model.predict(x_test)"
      ],
      "metadata": {
        "id": "T2d6dV-mjwHN"
      },
      "execution_count": null,
      "outputs": []
    },
    {
      "cell_type": "code",
      "source": [
        "y_pred"
      ],
      "metadata": {
        "colab": {
          "base_uri": "https://localhost:8080/"
        },
        "id": "Prn_hxtqj4uv",
        "outputId": "c6db65f5-0d0b-43c9-cf91-a9b2716e9bf8"
      },
      "execution_count": null,
      "outputs": [
        {
          "output_type": "execute_result",
          "data": {
            "text/plain": [
              "array([0, 1, 0, 1, 1, 0, 1, 0, 0, 0, 1, 0, 0, 0, 0, 0, 1, 1, 0, 0, 1, 1,\n",
              "       0, 1, 0, 1, 0, 1, 1, 1, 1, 0, 1, 0, 0, 0, 0, 1, 0, 0, 1, 0, 1, 1,\n",
              "       0, 1, 1, 1, 1, 0, 0, 0, 1, 1, 0, 1, 1, 1, 0, 1, 1, 1, 1, 1, 0, 1,\n",
              "       0, 1, 0, 1, 0, 0, 0, 1, 0, 0, 1, 1, 0, 0, 1, 0, 1, 1, 1, 1, 0, 0,\n",
              "       1, 1, 0, 1, 0, 0, 1, 1, 1, 0, 0, 0, 0, 1, 0, 0, 1, 0, 1, 1, 1, 1,\n",
              "       1, 1, 0, 0, 0, 1, 1, 1, 0, 0, 0, 1, 0, 1, 0, 0, 1, 0, 0, 0, 1, 0,\n",
              "       0, 1, 0, 1, 0, 1, 1, 1, 1, 0, 0, 0, 0, 0, 1, 0, 0, 0, 1, 0, 0, 0,\n",
              "       0, 1, 0, 1, 0, 0, 0, 0, 0, 0, 1, 0, 0, 1, 0, 0, 0, 0, 0, 0, 0, 1,\n",
              "       0, 0, 0, 0, 0, 0, 1, 0, 1, 0, 1, 0, 1, 1, 0, 0, 1, 1, 1, 0, 0, 0,\n",
              "       1, 0, 0, 0, 0, 1, 1, 1, 1, 1, 1, 0, 0, 1, 1, 0, 1, 0, 1, 0, 1, 1,\n",
              "       1, 1, 0, 1, 0, 1, 1, 1, 1, 1, 1, 1, 1, 1, 0, 0, 1, 1, 1, 0, 1, 1,\n",
              "       0, 1, 1, 0, 0, 1, 1, 0, 0, 1, 1, 1, 0, 1, 0, 0, 1, 0, 1, 0, 1, 0,\n",
              "       1, 1, 1, 0, 0, 1, 1, 1, 0, 0, 1, 1, 1, 0, 1, 1, 1, 1, 0, 0, 0, 0,\n",
              "       0, 1, 1, 0, 0, 0, 1, 0, 1, 0, 1, 1, 1, 1, 1, 1, 0, 1, 1, 1, 1, 0,\n",
              "       1, 1, 0, 0, 1, 1, 1, 1, 0, 0, 0, 1, 0, 1, 1, 1, 0, 1, 1, 1, 0, 0,\n",
              "       0, 0, 1, 1, 0, 1, 1, 0, 0, 0, 0, 0, 0, 1, 1, 0, 0, 0, 1, 0, 0, 0,\n",
              "       0, 1, 0, 1, 1, 0, 0, 0, 1, 1, 1, 1])"
            ]
          },
          "metadata": {},
          "execution_count": 43
        }
      ]
    },
    {
      "cell_type": "markdown",
      "source": [
        "### **Accuracy**"
      ],
      "metadata": {
        "id": "sJCeOpGjkTCi"
      }
    },
    {
      "cell_type": "code",
      "source": [
        "from sklearn.metrics import accuracy_score"
      ],
      "metadata": {
        "id": "eSitxTCJkXTr"
      },
      "execution_count": null,
      "outputs": []
    },
    {
      "cell_type": "code",
      "source": [
        "accuracy_score(y_pred, y_test)"
      ],
      "metadata": {
        "colab": {
          "base_uri": "https://localhost:8080/"
        },
        "id": "WOJKAajvkkkh",
        "outputId": "a2cb16ea-e69a-4c4e-fb63-13db58f2d4e6"
      },
      "execution_count": null,
      "outputs": [
        {
          "output_type": "execute_result",
          "data": {
            "text/plain": [
              "0.967032967032967"
            ]
          },
          "metadata": {},
          "execution_count": 45
        }
      ]
    }
  ]
}